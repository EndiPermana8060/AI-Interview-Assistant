{
 "cells": [
  {
   "cell_type": "code",
   "execution_count": 1,
   "metadata": {},
   "outputs": [],
   "source": [
    "from flask import Flask, jsonify, send_file\n",
    "import os\n",
    "from chatbot import ChatBot"
   ]
  },
  {
   "cell_type": "code",
   "execution_count": 2,
   "metadata": {},
   "outputs": [],
   "source": [
    "bot = ChatBot()"
   ]
  },
  {
   "cell_type": "code",
   "execution_count": 3,
   "metadata": {},
   "outputs": [],
   "source": [
    "file_path = 'hasil_transkripsi.txt'\n",
    "\n",
    "# Read the input file\n",
    "with open(file_path, \"r\", encoding=\"utf-8\") as input_file:\n",
    "    input_text = input_file.read()\n",
    "\n",
    "# Process the text with the generate_format function\n",
    "formatted_text = bot.generate_format(input_text)\n",
    "\n",
    "# Save the formatted output to a new .txt file\n",
    "output_filename = \"formatted_output.txt\"\n",
    "output_filepath = os.path.join(os.path.dirname(file_path), output_filename)\n",
    "\n",
    "with open(output_filepath, \"w\", encoding=\"utf-8\") as output_file:\n",
    "    output_file.write(formatted_text)"
   ]
  },
  {
   "cell_type": "code",
   "execution_count": 7,
   "metadata": {},
   "outputs": [],
   "source": [
    "file_path = 'hasil_transkripsi.txt'\n",
    "\n",
    "# Read the input file\n",
    "with open(file_path, \"r\", encoding=\"utf-8\") as input_file:\n",
    "    input_text = input_file.read()\n",
    "\n",
    "validation_text = bot.generate_validation(input_text)\n",
    "# Save the formatted output to a new .txt file\n",
    "output_filename = \"validation_output.txt\"\n",
    "output_filepath = os.path.join(os.path.dirname(file_path), output_filename)\n",
    "\n",
    "with open(output_filepath, \"w\", encoding=\"utf-8\") as output_file:\n",
    "    output_file.write(validation_text)"
   ]
  },
  {
   "cell_type": "code",
   "execution_count": null,
   "metadata": {},
   "outputs": [],
   "source": []
  }
 ],
 "metadata": {
  "kernelspec": {
   "display_name": "Python 3",
   "language": "python",
   "name": "python3"
  },
  "language_info": {
   "codemirror_mode": {
    "name": "ipython",
    "version": 3
   },
   "file_extension": ".py",
   "mimetype": "text/x-python",
   "name": "python",
   "nbconvert_exporter": "python",
   "pygments_lexer": "ipython3",
   "version": "3.9.0"
  }
 },
 "nbformat": 4,
 "nbformat_minor": 2
}
