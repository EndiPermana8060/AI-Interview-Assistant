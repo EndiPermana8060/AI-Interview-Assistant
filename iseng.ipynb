{
 "cells": [
  {
   "cell_type": "code",
   "execution_count": 2,
   "metadata": {},
   "outputs": [
    {
     "name": "stdout",
     "output_type": "stream",
     "text": [
      "Collecting langchain_groq\n",
      "  Using cached langchain_groq-0.2.4-py3-none-any.whl.metadata (3.0 kB)\n",
      "Requirement already satisfied: groq<1,>=0.4.1 in c:\\users\\user\\appdata\\local\\programs\\python\\python39\\lib\\site-packages (from langchain_groq) (0.18.0)\n",
      "Collecting langchain-core<0.4.0,>=0.3.33 (from langchain_groq)\n",
      "  Using cached langchain_core-0.3.36-py3-none-any.whl.metadata (5.9 kB)\n",
      "Requirement already satisfied: anyio<5,>=3.5.0 in c:\\users\\user\\appdata\\local\\programs\\python\\python39\\lib\\site-packages (from groq<1,>=0.4.1->langchain_groq) (4.8.0)\n",
      "Requirement already satisfied: distro<2,>=1.7.0 in c:\\users\\user\\appdata\\local\\programs\\python\\python39\\lib\\site-packages (from groq<1,>=0.4.1->langchain_groq) (1.9.0)\n",
      "Requirement already satisfied: httpx<1,>=0.23.0 in c:\\users\\user\\appdata\\local\\programs\\python\\python39\\lib\\site-packages (from groq<1,>=0.4.1->langchain_groq) (0.28.1)\n",
      "Requirement already satisfied: pydantic<3,>=1.9.0 in c:\\users\\user\\appdata\\local\\programs\\python\\python39\\lib\\site-packages (from groq<1,>=0.4.1->langchain_groq) (2.10.6)\n",
      "Requirement already satisfied: sniffio in c:\\users\\user\\appdata\\local\\programs\\python\\python39\\lib\\site-packages (from groq<1,>=0.4.1->langchain_groq) (1.3.1)\n",
      "Requirement already satisfied: typing-extensions<5,>=4.10 in c:\\users\\user\\appdata\\roaming\\python\\python39\\site-packages (from groq<1,>=0.4.1->langchain_groq) (4.12.2)\n",
      "Collecting langsmith<0.4,>=0.1.125 (from langchain-core<0.4.0,>=0.3.33->langchain_groq)\n",
      "  Using cached langsmith-0.3.8-py3-none-any.whl.metadata (14 kB)\n",
      "Collecting tenacity!=8.4.0,<10.0.0,>=8.1.0 (from langchain-core<0.4.0,>=0.3.33->langchain_groq)\n",
      "  Using cached tenacity-9.0.0-py3-none-any.whl.metadata (1.2 kB)\n",
      "Collecting jsonpatch<2.0,>=1.33 (from langchain-core<0.4.0,>=0.3.33->langchain_groq)\n",
      "  Using cached jsonpatch-1.33-py2.py3-none-any.whl.metadata (3.0 kB)\n",
      "Collecting PyYAML>=5.3 (from langchain-core<0.4.0,>=0.3.33->langchain_groq)\n",
      "  Using cached PyYAML-6.0.2-cp39-cp39-win_amd64.whl.metadata (2.1 kB)\n",
      "Requirement already satisfied: packaging<25,>=23.2 in c:\\users\\user\\appdata\\roaming\\python\\python39\\site-packages (from langchain-core<0.4.0,>=0.3.33->langchain_groq) (24.1)\n",
      "Requirement already satisfied: exceptiongroup>=1.0.2 in c:\\users\\user\\appdata\\roaming\\python\\python39\\site-packages (from anyio<5,>=3.5.0->groq<1,>=0.4.1->langchain_groq) (1.2.2)\n",
      "Requirement already satisfied: idna>=2.8 in c:\\users\\user\\appdata\\local\\programs\\python\\python39\\lib\\site-packages (from anyio<5,>=3.5.0->groq<1,>=0.4.1->langchain_groq) (3.10)\n",
      "Requirement already satisfied: certifi in c:\\users\\user\\appdata\\local\\programs\\python\\python39\\lib\\site-packages (from httpx<1,>=0.23.0->groq<1,>=0.4.1->langchain_groq) (2025.1.31)\n",
      "Requirement already satisfied: httpcore==1.* in c:\\users\\user\\appdata\\local\\programs\\python\\python39\\lib\\site-packages (from httpx<1,>=0.23.0->groq<1,>=0.4.1->langchain_groq) (1.0.7)\n",
      "Requirement already satisfied: h11<0.15,>=0.13 in c:\\users\\user\\appdata\\local\\programs\\python\\python39\\lib\\site-packages (from httpcore==1.*->httpx<1,>=0.23.0->groq<1,>=0.4.1->langchain_groq) (0.14.0)\n",
      "Collecting jsonpointer>=1.9 (from jsonpatch<2.0,>=1.33->langchain-core<0.4.0,>=0.3.33->langchain_groq)\n",
      "  Using cached jsonpointer-3.0.0-py2.py3-none-any.whl.metadata (2.3 kB)\n",
      "Collecting orjson<4.0.0,>=3.9.14 (from langsmith<0.4,>=0.1.125->langchain-core<0.4.0,>=0.3.33->langchain_groq)\n",
      "  Using cached orjson-3.10.15-cp39-cp39-win_amd64.whl.metadata (42 kB)\n",
      "Collecting requests<3,>=2 (from langsmith<0.4,>=0.1.125->langchain-core<0.4.0,>=0.3.33->langchain_groq)\n",
      "  Using cached requests-2.32.3-py3-none-any.whl.metadata (4.6 kB)\n",
      "Collecting requests-toolbelt<2.0.0,>=1.0.0 (from langsmith<0.4,>=0.1.125->langchain-core<0.4.0,>=0.3.33->langchain_groq)\n",
      "  Using cached requests_toolbelt-1.0.0-py2.py3-none-any.whl.metadata (14 kB)\n",
      "Collecting zstandard<0.24.0,>=0.23.0 (from langsmith<0.4,>=0.1.125->langchain-core<0.4.0,>=0.3.33->langchain_groq)\n",
      "  Using cached zstandard-0.23.0-cp39-cp39-win_amd64.whl.metadata (3.0 kB)\n",
      "Requirement already satisfied: annotated-types>=0.6.0 in c:\\users\\user\\appdata\\local\\programs\\python\\python39\\lib\\site-packages (from pydantic<3,>=1.9.0->groq<1,>=0.4.1->langchain_groq) (0.7.0)\n",
      "Requirement already satisfied: pydantic-core==2.27.2 in c:\\users\\user\\appdata\\local\\programs\\python\\python39\\lib\\site-packages (from pydantic<3,>=1.9.0->groq<1,>=0.4.1->langchain_groq) (2.27.2)\n",
      "Collecting charset-normalizer<4,>=2 (from requests<3,>=2->langsmith<0.4,>=0.1.125->langchain-core<0.4.0,>=0.3.33->langchain_groq)\n",
      "  Using cached charset_normalizer-3.4.1-cp39-cp39-win_amd64.whl.metadata (36 kB)\n",
      "Collecting urllib3<3,>=1.21.1 (from requests<3,>=2->langsmith<0.4,>=0.1.125->langchain-core<0.4.0,>=0.3.33->langchain_groq)\n",
      "  Using cached urllib3-2.3.0-py3-none-any.whl.metadata (6.5 kB)\n",
      "Using cached langchain_groq-0.2.4-py3-none-any.whl (14 kB)\n",
      "Using cached langchain_core-0.3.36-py3-none-any.whl (413 kB)\n",
      "Using cached jsonpatch-1.33-py2.py3-none-any.whl (12 kB)\n",
      "Using cached langsmith-0.3.8-py3-none-any.whl (332 kB)\n",
      "Using cached PyYAML-6.0.2-cp39-cp39-win_amd64.whl (162 kB)\n",
      "Using cached tenacity-9.0.0-py3-none-any.whl (28 kB)\n",
      "Using cached jsonpointer-3.0.0-py2.py3-none-any.whl (7.6 kB)\n",
      "Using cached orjson-3.10.15-cp39-cp39-win_amd64.whl (133 kB)\n",
      "Using cached requests-2.32.3-py3-none-any.whl (64 kB)\n",
      "Using cached requests_toolbelt-1.0.0-py2.py3-none-any.whl (54 kB)\n",
      "Using cached zstandard-0.23.0-cp39-cp39-win_amd64.whl (495 kB)\n",
      "Using cached charset_normalizer-3.4.1-cp39-cp39-win_amd64.whl (102 kB)\n",
      "Using cached urllib3-2.3.0-py3-none-any.whl (128 kB)\n",
      "Installing collected packages: zstandard, urllib3, tenacity, PyYAML, orjson, jsonpointer, charset-normalizer, requests, jsonpatch, requests-toolbelt, langsmith, langchain-core, langchain_groq\n",
      "Successfully installed PyYAML-6.0.2 charset-normalizer-3.4.1 jsonpatch-1.33 jsonpointer-3.0.0 langchain-core-0.3.36 langchain_groq-0.2.4 langsmith-0.3.8 orjson-3.10.15 requests-2.32.3 requests-toolbelt-1.0.0 tenacity-9.0.0 urllib3-2.3.0 zstandard-0.23.0\n",
      "Note: you may need to restart the kernel to use updated packages.\n"
     ]
    }
   ],
   "source": [
    "pip install langchain_groq"
   ]
  },
  {
   "cell_type": "code",
   "execution_count": 80,
   "metadata": {},
   "outputs": [],
   "source": [
    "from langchain_groq import ChatGroq\n",
    "from langchain_core.prompts import ChatPromptTemplate\n",
    "from dotenv import load_dotenv\n",
    "import os\n",
    "\n",
    "load_dotenv()\n",
    "GROQ_API_KEY = os.getenv('GROQ_API_KEY')\n",
    "class ChatBot:\n",
    "    def __init__(self):\n",
    "        # Initialize the ChatGroq model using the provided API key and a specific model.\n",
    "        \n",
    "        self.llm = ChatGroq(groq_api_key=GROQ_API_KEY, model_name=\"llama-3.3-70b-versatile\")\n",
    "        self.default_suggestion_system_prompt = \"You are a useful assistant that accepts text input in Indonesian and is designed to support the interviewer. Based on the conversation text provided, create up to 5 in-depth follow-up questions using Indonesian. These questions will help the interviewer explore the candidate's experience, problem-solving abilities, or other relevant areas in more depth. Make sure the 2 final questions are questions that are relevant to the topic of conversation and the 3 questions at the beginning to assess how persistent the candidate is based on their answers in the interview based on the following grit:\"\n",
    "        \n",
    "\n",
    "    def generate_suggestion(self, text, additional_prompt=\"\"):\n",
    "        # Gabungkan prompt default dengan tambahan user\n",
    "        full_system_prompt = self.default_suggestion_system_prompt + \" \" + additional_prompt\n",
    "\n",
    "        # Membuat prompt template secara dinamis\n",
    "        gen_suggestion_template = ChatPromptTemplate.from_messages(\n",
    "            [\n",
    "                (\"system\", full_system_prompt),  # System message yang sudah diperbarui\n",
    "                (\"human\", f\"Input:\\n{text}\\nnPlease analyze this conversation and generate follow-up questions based on the interview flow.\")\n",
    "            ]\n",
    "        )\n",
    "\n",
    "        # Buat chain dengan template dinamis\n",
    "        generate_suggestion_chain = gen_suggestion_template | self.llm\n",
    "        \n",
    "        # Invoke chain\n",
    "        response = generate_suggestion_chain.invoke({'text': text}).content\n",
    "        return response\n",
    "\n",
    "\n"
   ]
  },
  {
   "cell_type": "code",
   "execution_count": 81,
   "metadata": {},
   "outputs": [],
   "source": [
    "from utils import Utils\n",
    "utility = Utils()"
   ]
  },
  {
   "cell_type": "code",
   "execution_count": 82,
   "metadata": {},
   "outputs": [],
   "source": [
    "file_path = \"hasil_transkripsi.txt\"  # Ensure correct path format"
   ]
  },
  {
   "cell_type": "code",
   "execution_count": 83,
   "metadata": {},
   "outputs": [],
   "source": [
    "# Read the file content\n",
    "content = utility.read_txt_file(file_path)"
   ]
  },
  {
   "cell_type": "code",
   "execution_count": 84,
   "metadata": {},
   "outputs": [
    {
     "name": "stdout",
     "output_type": "stream",
     "text": [
      "Saya selalu mengikuti prinsip clean code dan menggunakan standar coding seperti PEP 8 untuk Python. Selain itu, saya rutin melakukan code review bersama tim, menulis unit test, serta mendokumentasikan kode agar lebih mudah dipahami oleh rekan kerja.\n",
      "\n",
      "HRD:\n",
      "Terakhir, mengapa Anda tertarik bergabung dengan perusahaan kami?\n",
      "\n",
      "Candidate:\n",
      "Saya tertarik karena perusahaan ini memiliki budaya kerja yang inovatif dan mengembangkan produk berbasis teknologi terbaru. Saya ingin berkontribusi dalam tim untuk menciptakan solusi yang berdampak luas, sekaligus terus mengembangkan skill saya sebagai programmer.\n"
     ]
    }
   ],
   "source": [
    "print(content)"
   ]
  },
  {
   "cell_type": "code",
   "execution_count": 85,
   "metadata": {},
   "outputs": [],
   "source": [
    "additional_text = \"Integrity, Customer Oriented, Competitive, Time Work, visioner\""
   ]
  },
  {
   "cell_type": "code",
   "execution_count": 86,
   "metadata": {},
   "outputs": [],
   "source": [
    "bot = ChatBot()"
   ]
  },
  {
   "cell_type": "code",
   "execution_count": 87,
   "metadata": {},
   "outputs": [],
   "source": [
    "# Generate suggestions using the bot's generate_suggestion method\n",
    "response = bot.generate_suggestion(content, additional_text)\n"
   ]
  },
  {
   "cell_type": "code",
   "execution_count": 88,
   "metadata": {},
   "outputs": [
    {
     "name": "stdout",
     "output_type": "stream",
     "text": [
      "Berikut adalah 5 pertanyaan follow-up yang dapat membantu memahami lebih dalam tentang pengalaman, kemampuan, dan tujuan kandidat:\n",
      "\n",
      "1. Bagaimana Anda menghadapi situasi ketika kode yang Anda tulis tidak sesuai dengan standar coding yang telah ditetapkan, dan apa yang Anda lakukan untuk memperbaikinya? (Mengukur integritas)\n",
      "2. Dalam melakukan code review, bagaimana Anda memastikan bahwa umpan balik yang Anda berikan kepada rekan kerja dapat diterima dan dimanfaatkan dengan baik, serta bagaimana Anda menangani jika ada perbedaan pendapat tentang kode yang ditinjau? (Mengukur kemampuan berorientasi pada pelanggan)\n",
      "3. Apa yang Anda lakukan ketika Anda menghadapi tantangan dalam mengerjakan proyek yang memiliki deadline ketat, dan bagaimana Anda memastikan bahwa Anda dapat menyelesaikannya tepat waktu? (Mengukur kemampuan kompetitif dan manajemen waktu)\n",
      "4. Bagaimana Anda melihat peran Anda dalam menciptakan solusi yang berdampak luas di perusahaan kami, dan apa yang Anda harapkan dapat dicapai dalam waktu 6-12 bulan setelah bergabung dengan tim kami? (Mengukur visi dan tujuan)\n",
      "5. Apa yang Anda ketahui tentang budaya kerja inovatif di perusahaan kami, dan bagaimana Anda berencana untuk berkontribusi dalam mengembangkan produk berbasis teknologi terbaru di perusahaan kami? (Mengukur pemahaman tentang perusahaan dan visi)\n",
      "\n",
      "Pertanyaan-pertanyaan ini dapat membantu memahami lebih dalam tentang kemampuan, pengalaman, dan tujuan kandidat, serta sejauh mana mereka memahami tentang perusahaan dan budaya kerjanya.\n"
     ]
    }
   ],
   "source": [
    "print(response)"
   ]
  },
  {
   "cell_type": "code",
   "execution_count": null,
   "metadata": {},
   "outputs": [],
   "source": []
  }
 ],
 "metadata": {
  "kernelspec": {
   "display_name": "Python 3",
   "language": "python",
   "name": "python3"
  },
  "language_info": {
   "codemirror_mode": {
    "name": "ipython",
    "version": 3
   },
   "file_extension": ".py",
   "mimetype": "text/x-python",
   "name": "python",
   "nbconvert_exporter": "python",
   "pygments_lexer": "ipython3",
   "version": "3.9.0"
  }
 },
 "nbformat": 4,
 "nbformat_minor": 2
}
