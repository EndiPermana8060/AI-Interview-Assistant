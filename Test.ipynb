{
 "cells": [
  {
   "cell_type": "code",
   "execution_count": 2,
   "metadata": {},
   "outputs": [
    {
     "name": "stdout",
     "output_type": "stream",
     "text": [
      "Processing d:\\projek\\interview\\pyaudio-0.2.14-cp39-cp39-win_amd64.whl\n",
      "Installing collected packages: PyAudio\n",
      "Successfully installed PyAudio-0.2.14\n",
      "Note: you may need to restart the kernel to use updated packages.\n"
     ]
    }
   ],
   "source": [
    "pip install PyAudio-0.2.14-cp39-cp39-win_amd64.whl"
   ]
  },
  {
   "cell_type": "code",
   "execution_count": 17,
   "metadata": {},
   "outputs": [
    {
     "name": "stdout",
     "output_type": "stream",
     "text": [
      "Collecting numpyNote: you may need to restart the kernel to use updated packages.\n",
      "\n",
      "  Using cached numpy-2.0.2-cp39-cp39-win_amd64.whl.metadata (59 kB)\n",
      "Using cached numpy-2.0.2-cp39-cp39-win_amd64.whl (15.9 MB)\n",
      "Installing collected packages: numpy\n",
      "Successfully installed numpy-2.0.2\n"
     ]
    }
   ],
   "source": [
    "pip install numpy"
   ]
  },
  {
   "cell_type": "code",
   "execution_count": 14,
   "metadata": {},
   "outputs": [
    {
     "name": "stdout",
     "output_type": "stream",
     "text": [
      "Collecting sounddevice\n",
      "  Downloading sounddevice-0.5.1-py3-none-win_amd64.whl.metadata (1.4 kB)\n",
      "Collecting CFFI>=1.0 (from sounddevice)\n",
      "  Downloading cffi-1.17.1-cp39-cp39-win_amd64.whl.metadata (1.6 kB)\n",
      "Collecting pycparser (from CFFI>=1.0->sounddevice)\n",
      "  Downloading pycparser-2.22-py3-none-any.whl.metadata (943 bytes)\n",
      "Downloading sounddevice-0.5.1-py3-none-win_amd64.whl (363 kB)\n",
      "Downloading cffi-1.17.1-cp39-cp39-win_amd64.whl (181 kB)\n",
      "Downloading pycparser-2.22-py3-none-any.whl (117 kB)\n",
      "Installing collected packages: pycparser, CFFI, sounddevice\n",
      "Successfully installed CFFI-1.17.1 pycparser-2.22 sounddevice-0.5.1\n",
      "Note: you may need to restart the kernel to use updated packages.\n"
     ]
    }
   ],
   "source": [
    "pip install sounddevice"
   ]
  },
  {
   "cell_type": "code",
   "execution_count": 19,
   "metadata": {},
   "outputs": [
    {
     "name": "stdout",
     "output_type": "stream",
     "text": [
      "Collecting soundfile\n",
      "  Downloading soundfile-0.13.1-py2.py3-none-win_amd64.whl.metadata (16 kB)\n",
      "Requirement already satisfied: cffi>=1.0 in c:\\users\\user\\appdata\\local\\programs\\python\\python39\\lib\\site-packages (from soundfile) (1.17.1)\n",
      "Requirement already satisfied: numpy in c:\\users\\user\\appdata\\local\\programs\\python\\python39\\lib\\site-packages (from soundfile) (2.0.2)\n",
      "Requirement already satisfied: pycparser in c:\\users\\user\\appdata\\local\\programs\\python\\python39\\lib\\site-packages (from cffi>=1.0->soundfile) (2.22)\n",
      "Downloading soundfile-0.13.1-py2.py3-none-win_amd64.whl (1.0 MB)\n",
      "   ---------------------------------------- 0.0/1.0 MB ? eta -:--:--\n",
      "   ---------- ----------------------------- 0.3/1.0 MB ? eta -:--:--\n",
      "   -------------------- ------------------- 0.5/1.0 MB 1.9 MB/s eta 0:00:01\n",
      "   ---------------------------------------- 1.0/1.0 MB 1.7 MB/s eta 0:00:00\n",
      "Installing collected packages: soundfile\n",
      "Successfully installed soundfile-0.13.1\n",
      "Note: you may need to restart the kernel to use updated packages.\n"
     ]
    }
   ],
   "source": [
    "pip install soundfile"
   ]
  },
  {
   "cell_type": "code",
   "execution_count": 10,
   "metadata": {},
   "outputs": [
    {
     "name": "stdout",
     "output_type": "stream",
     "text": [
      "Collecting keyboard\n",
      "  Downloading keyboard-0.13.5-py3-none-any.whl.metadata (4.0 kB)\n",
      "Downloading keyboard-0.13.5-py3-none-any.whl (58 kB)\n",
      "Installing collected packages: keyboard\n",
      "Successfully installed keyboard-0.13.5\n",
      "Note: you may need to restart the kernel to use updated packages.\n"
     ]
    }
   ],
   "source": [
    "pip install keyboard"
   ]
  },
  {
   "cell_type": "code",
   "execution_count": 5,
   "metadata": {},
   "outputs": [
    {
     "name": "stdout",
     "output_type": "stream",
     "text": [
      "Merekam...\n",
      " saya pakai OBS dan Zoom ya ini OBS lalu\n",
      "Hasil transkripsi disimpan ke hasil_transkripsi.txt\n",
      "File lama output_1739848422.wav telah dihapus.\n",
      " saya coba new meeting yang bisa juga masuk di meeting yang lain\n",
      "Hasil transkripsi disimpan ke hasil_transkripsi.txt\n",
      "File lama output_1739848438.wav telah dihapus.\n",
      " Nah ini ada audio, audionya disini Biasanya saya gunakan speaker, speaker outputnya ke cable VB\n",
      "Hasil transkripsi disimpan ke hasil_transkripsi.txt\n",
      "File lama output_1739848454.wav telah dihapus.\n",
      " kita bisa gunakan VB cable nya disini setelah seperti itu misalnya ada orang berbicara nanti di zoom, dia langsung\n",
      "Hasil transkripsi disimpan ke hasil_transkripsi.txt\n",
      "File lama output_1739848470.wav telah dihapus.\n",
      "Perekaman selesai.\n"
     ]
    }
   ],
   "source": [
    "import pyaudio\n",
    "import wave\n",
    "import time\n",
    "import os\n",
    "from groq import Groq\n",
    "\n",
    "# Konfigurasi PyAudio untuk menangkap audio dari Virtual Audio Cable\n",
    "p = pyaudio.PyAudio()\n",
    "\n",
    "# Atur parameters perekaman audio\n",
    "rate = 44100  # Sample rate\n",
    "channels = 1  # Mono audio\n",
    "format = pyaudio.paInt16  # Format audio\n",
    "frames_per_buffer = 1024  # Ukuran buffer\n",
    "\n",
    "# Inisialisasi stream untuk menangkap audio dari Virtual Audio Cable\n",
    "stream = p.open(format=format, channels=channels, rate=rate, input=True,\n",
    "                frames_per_buffer=frames_per_buffer)\n",
    "\n",
    "print(\"Merekam...\")\n",
    "\n",
    "# Menangkap audio dan menyimpannya ke file WAV setiap 10 detik\n",
    "frames = []\n",
    "start_time = time.time()\n",
    "interval = 10  # Interval untuk menyimpan setiap 10 detik\n",
    "last_output_filename = None  # Variabel untuk menyimpan nama file WAV terakhir\n",
    "\n",
    "# Inisialisasi Groq Client\n",
    "client = Groq(api_key=\"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\")\n",
    "\n",
    "# Fungsi untuk menyimpan hasil transkripsi ke file\n",
    "def simpan_hasil_transkripsi(teks, nama_file=\"hasil_transkripsi.txt\"):\n",
    "    try:\n",
    "        # Buka file dalam mode append untuk menambahkan hasil baru\n",
    "        with open(nama_file, \"a\", encoding=\"utf-8\") as file:\n",
    "            file.write(teks + \"\\n\")\n",
    "            print(f\"Hasil transkripsi disimpan ke {nama_file}\")\n",
    "    except Exception as e:\n",
    "        print(f\"Terjadi kesalahan saat menyimpan hasil transkripsi: {e}\")\n",
    "\n",
    "try:\n",
    "    while True:\n",
    "        # Membaca data audio dari stream\n",
    "        data = stream.read(frames_per_buffer)\n",
    "        frames.append(data)\n",
    "        \n",
    "        # Jika 10 detik telah berlalu, simpan dan konversi audio\n",
    "        if time.time() - start_time >= interval:\n",
    "            # Simpan audio yang direkam ke file WAV\n",
    "            output_filename = f\"output_{int(time.time())}.wav\"\n",
    "\n",
    "            # Hapus file WAV lama jika ada\n",
    "            if last_output_filename and os.path.exists(last_output_filename):\n",
    "                os.remove(last_output_filename)\n",
    "                print(f\"File lama {last_output_filename} telah dihapus.\")\n",
    "\n",
    "            # Simpan file WAV baru\n",
    "            with wave.open(output_filename, 'wb') as wf:\n",
    "                wf.setnchannels(channels)\n",
    "                wf.setsampwidth(p.get_sample_size(format))\n",
    "                wf.setframerate(rate)\n",
    "                wf.writeframes(b''.join(frames))\n",
    "\n",
    "            # Update nama file terakhir\n",
    "            last_output_filename = output_filename\n",
    "\n",
    "            # Konversi audio ke teks menggunakan Whisper dari Groq\n",
    "            with open(output_filename, \"rb\") as file:\n",
    "                try:\n",
    "                    transcription = client.audio.transcriptions.create(\n",
    "                        file=(output_filename, file.read()),\n",
    "                        model=\"whisper-large-v3\",\n",
    "                        response_format=\"verbose_json\",\n",
    "                    )\n",
    "\n",
    "                    # Jika ada teks hasil transkripsi, simpan ke file\n",
    "                    if hasattr(transcription, 'text'):\n",
    "                        print(transcription.text)  # Tampilkan hasil di konsol\n",
    "                        simpan_hasil_transkripsi(transcription.text)  # Simpan ke file\n",
    "                    else:\n",
    "                        print(f\"Tidak ada teks yang terdeteksi dalam {output_filename}\")\n",
    "                \n",
    "                except Exception as e:\n",
    "                    print(f\"Terjadi kesalahan saat menggunakan Whisper: {e}\")\n",
    "\n",
    "            # Reset frames untuk perekaman berikutnya\n",
    "            frames = []\n",
    "            start_time = time.time()  # Reset waktu mulai untuk interval berikutnya\n",
    "\n",
    "except KeyboardInterrupt:\n",
    "    print(\"Perekaman selesai.\")\n",
    "\n",
    "# Tutup stream PyAudio\n",
    "stream.stop_stream()\n",
    "stream.close()\n",
    "p.terminate()\n"
   ]
  },
  {
   "cell_type": "code",
   "execution_count": null,
   "metadata": {},
   "outputs": [],
   "source": []
  },
  {
   "cell_type": "code",
   "execution_count": null,
   "metadata": {},
   "outputs": [],
   "source": []
  },
  {
   "cell_type": "code",
   "execution_count": null,
   "metadata": {},
   "outputs": [],
   "source": []
  }
 ],
 "metadata": {
  "kernelspec": {
   "display_name": "Python 3",
   "language": "python",
   "name": "python3"
  },
  "language_info": {
   "codemirror_mode": {
    "name": "ipython",
    "version": 3
   },
   "file_extension": ".py",
   "mimetype": "text/x-python",
   "name": "python",
   "nbconvert_exporter": "python",
   "pygments_lexer": "ipython3",
   "version": "3.9.0"
  }
 },
 "nbformat": 4,
 "nbformat_minor": 2
}
